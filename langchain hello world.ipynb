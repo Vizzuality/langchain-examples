{
 "cells": [
  {
   "cell_type": "code",
   "execution_count": 1,
   "id": "0f394cb8",
   "metadata": {
    "tags": []
   },
   "outputs": [],
   "source": [
    "import os\n",
    "\n",
    "openai_api_key = os.environ.get(\"OPENAI_API_KEY\")"
   ]
  },
  {
   "cell_type": "code",
   "execution_count": 2,
   "id": "f7ea5b4a",
   "metadata": {
    "tags": []
   },
   "outputs": [],
   "source": [
    "from langchain.chat_models import ChatOpenAI\n",
    "from langchain.schema import HumanMessage, SystemMessage\n",
    "\n",
    "chat = ChatOpenAI(temperature=.7, openai_api_key=openai_api_key)"
   ]
  },
  {
   "cell_type": "code",
   "execution_count": 3,
   "id": "17fc65e9",
   "metadata": {
    "tags": []
   },
   "outputs": [
    {
     "data": {
      "text/plain": [
       "AIMessage(content='As an environmental scientist, I would recommend you to consider purchasing a house in the northern regions of Spain such as Asturias, Cantabria, Basque Country, and Navarra.\\n\\nAccording to the climate change projections for the next 20 years, these regions are expected to experience less severe impacts compared to other areas in Spain. Some of the expected changes include increased temperatures, more frequent and intense heatwaves, reduced rainfall, and more frequent droughts.\\n\\nThese changes are likely to have several environmental and social impacts such as water scarcity, reduced crop yields, biodiversity loss, and increased risk of wildfires, among others.\\n\\nHowever, the northern regions of Spain are expected to be more resilient to these impacts due to their geographic location, topography, and climatic conditions. These regions are characterized by a cooler and more humid climate, with abundant rainfall and green landscapes, making them less vulnerable to extreme heat and water scarcity.\\n\\nMoreover, these regions have well-established environmental policies and practices aimed at preserving their natural resources and ecosystems, which can contribute to mitigating the effects of climate change.\\n\\nTherefore, if you are looking to buy a house that is less vulnerable to the impacts of climate change in Spain, the northern regions offer better prospects for a sustainable and healthy living environment.', additional_kwargs={})"
      ]
     },
     "execution_count": 3,
     "metadata": {},
     "output_type": "execute_result"
    }
   ],
   "source": [
    "chat(\n",
    "    [\n",
    "        SystemMessage(content=\"You are an environmental scientist that will tell the user what the best region to purchase a house in the specified country according to climate change projections for the next 20 years\"),\n",
    "        HumanMessage(content=\"I live in Spain, where should I buy a house\")\n",
    "    ]\n",
    ")"
   ]
  }
 ],
 "metadata": {
  "kernelspec": {
   "display_name": "Python 3 (ipykernel)",
   "language": "python",
   "name": "python3"
  },
  "language_info": {
   "codemirror_mode": {
    "name": "ipython",
    "version": 3
   },
   "file_extension": ".py",
   "mimetype": "text/x-python",
   "name": "python",
   "nbconvert_exporter": "python",
   "pygments_lexer": "ipython3",
   "version": "3.9.16"
  }
 },
 "nbformat": 4,
 "nbformat_minor": 5
}
