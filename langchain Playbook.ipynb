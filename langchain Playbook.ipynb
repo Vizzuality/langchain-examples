{
 "cells": [
  {
   "cell_type": "code",
   "execution_count": 4,
   "id": "c459421d-ab73-4dbd-8788-2e1ab0a8083c",
   "metadata": {
    "tags": []
   },
   "outputs": [],
   "source": [
    "import os\n",
    "\n",
    "openai_api_key = os.environ.get(\"OPENAI_API_KEY\")\n",
    "pinecone_api_key = os.environ.get(\"PINECONE_API_KEY\")"
   ]
  },
  {
   "cell_type": "code",
   "execution_count": 41,
   "id": "e01bfcd4-f8f6-4bf6-884d-8ed4a8cecd75",
   "metadata": {},
   "outputs": [],
   "source": [
    "from langchain.document_loaders import PyPDFLoader\n",
    "from langchain.text_splitter import RecursiveCharacterTextSplitter"
   ]
  },
  {
   "cell_type": "code",
   "execution_count": 20,
   "id": "6ae11f57-8fd3-4166-9309-e2c2ba8a0768",
   "metadata": {},
   "outputs": [],
   "source": [
    "loader = PyPDFLoader(\"https://coclicoservices.eu/wp-content/uploads/2021/11/WP1_D1_3_Rich_user_narratives_V1.pdf")"
   ]
  },
  {
   "cell_type": "code",
   "execution_count": 21,
   "id": "b48d355f-6785-4432-80e2-d86de88a1f69",
   "metadata": {},
   "outputs": [],
   "source": [
    "data = loader.load()"
   ]
  },
  {
   "cell_type": "code",
   "execution_count": 22,
   "id": "5557c75a-8f36-4834-973c-5d4b1d7234dd",
   "metadata": {},
   "outputs": [
    {
     "name": "stdout",
     "output_type": "stream",
     "text": [
      "There are 357037 characters in your document\n"
     ]
    }
   ],
   "source": [
    "print (f'There are {len(data[0].page_content)} characters in your document')"
   ]
  },
  {
   "cell_type": "code",
   "execution_count": 23,
   "id": "bf5ae974-fe5f-4d5f-b930-53e332030a5f",
   "metadata": {},
   "outputs": [],
   "source": [
    "text_splitter = RecursiveCharacterTextSplitter(chunk_size=1000, chunk_overlap=0)\n",
    "texts = text_splitter.split_documents(data)"
   ]
  },
  {
   "cell_type": "code",
   "execution_count": 24,
   "id": "f3461014-ee50-463b-bd60-e965a6ae66cf",
   "metadata": {},
   "outputs": [
    {
     "name": "stdout",
     "output_type": "stream",
     "text": [
      "Now you have 414 documents\n"
     ]
    }
   ],
   "source": [
    "print (f'Now you have {len(texts)} documents')"
   ]
  },
  {
   "cell_type": "code",
   "execution_count": 29,
   "id": "a9f73543-bc95-4eb3-b014-48715bf00d42",
   "metadata": {},
   "outputs": [],
   "source": [
    "from langchain.vectorstores import Chroma, Pinecone\n",
    "from langchain.embeddings.openai import OpenAIEmbeddings\n",
    "import pinecone"
   ]
  },
  {
   "cell_type": "code",
   "execution_count": 31,
   "id": "eef3513c-b846-4646-a2a4-2c92360d993c",
   "metadata": {},
   "outputs": [],
   "source": [
    "embeddings = OpenAIEmbeddings(openai_api_key=openai_api_key)"
   ]
  },
  {
   "cell_type": "code",
   "execution_count": 34,
   "id": "f1513c14-a96a-4e9f-899a-9da023ddca90",
   "metadata": {},
   "outputs": [],
   "source": [
    "pinecone.init(\n",
    "    api_key=secret_pinecone_key,\n",
    "    environment='northamerica-northeast1-gcp'\n",
    ")\n",
    "index_name = \"playbook\""
   ]
  },
  {
   "cell_type": "code",
   "execution_count": 37,
   "id": "32d74afe-8e3f-4a68-ae32-d3c5ab12b954",
   "metadata": {},
   "outputs": [],
   "source": [
    "docsearch = Pinecone.from_texts([t.page_content for t in texts], embeddings, index_name=index_name)"
   ]
  },
  {
   "cell_type": "code",
   "execution_count": 42,
   "id": "aca4fdd9-e4fb-4e36-adf0-3505c17b03d9",
   "metadata": {},
   "outputs": [],
   "source": [
    "from langchain.llms import OpenAI\n",
    "from langchain.chains.question_answering import load_qa_chain"
   ]
  },
  {
   "cell_type": "code",
   "execution_count": 43,
   "id": "67193c29-451c-4421-8d56-6a63c1c5797a",
   "metadata": {},
   "outputs": [],
   "source": [
    "llm = OpenAI(temperature=0, openai_api_key=openai_api_key)\n",
    "chain = load_qa_chain(llm, chain_type=\"stuff\")"
   ]
  },
  {
   "cell_type": "code",
   "execution_count": 65,
   "id": "330dfba8-0637-445e-b083-8430fc7c6d1f",
   "metadata": {},
   "outputs": [],
   "source": [
    "query = \"What are our accountability agreements at Vizzuality?\"\n",
    "docs = docsearch.similarity_search(query, include_metadata=False)"
   ]
  },
  {
   "cell_type": "code",
   "execution_count": 66,
   "id": "8ba5a47f-2af2-4dcb-9f64-3398a2ddfd4a",
   "metadata": {},
   "outputs": [
    {
     "data": {
      "text/plain": [
       "' Our accountability agreements at Vizzuality include having in mind our individual impact on the collective and the rest of the company, demonstrating individual leadership and accountability, defining and sharing commitments, delivering what we commit to, sharing information and expectations, speaking up and raising issues, asking for feedback and using it to improve, and giving feedback to others. We will also add these agreements to project documentation for easy access and reference, and will start embedding and implementing these new agreements in January 2023, with a retrospective after 3 months to see what needs to be improved.'"
      ]
     },
     "execution_count": 66,
     "metadata": {},
     "output_type": "execute_result"
    }
   ],
   "source": [
    "chain.run(input_documents=docs, question=query)"
   ]
  },
  {
   "cell_type": "code",
   "execution_count": 68,
   "id": "8b555b8f-9390-478f-8a4a-6b8367e1321f",
   "metadata": {},
   "outputs": [
    {
     "data": {
      "text/plain": [
       "' You can claim for expenses at Vizzuality by submitting a spreadsheet with all the details and receipts to Liuba. Vizzuality will cover the cost of accommodation and transportation (flights, trains, taxis) for trips between offices in Madrid, Cambridge, and Porto. For trips to other places, Vizzuality will also cover the cost of meals up to $50 per day.'"
      ]
     },
     "execution_count": 68,
     "metadata": {},
     "output_type": "execute_result"
    }
   ],
   "source": [
    "query = \"How can I claim for expenses at Vizzuality?\"\n",
    "docs = docsearch.similarity_search(query, include_metadata=True)\n",
    "chain.run(input_documents=docs, question=query)"
   ]
  },
  {
   "cell_type": "code",
   "execution_count": 70,
   "id": "7fddc3bd-9383-465c-9043-2d880a96e8c4",
   "metadata": {},
   "outputs": [
    {
     "data": {
      "text/plain": [
       "\" You should be assigned to your buddy by the team who hired that person the week before they arrive. Ideally you would work in a similar role to the new starter, so you can provide support at work and getting all the different systems to setup. Before their first day, try to link up with the team they'll work in and make sure they have work to do in the first week. On their first day, give them a tour of the office, introduce them to everyone on Slack, take them for lunch as much as possible in the first week so they get to know everyone, make sure they read the guidelines, and point them to the intranet pages about their projects/ the company.\""
      ]
     },
     "execution_count": 70,
     "metadata": {},
     "output_type": "execute_result"
    }
   ],
   "source": [
    "query = \"How can I be a good buddy at Vizzuality?\"\n",
    "docs = docsearch.similarity_search(query, include_metadata=True)\n",
    "chain.run(input_documents=docs, question=query)"
   ]
  },
  {
   "cell_type": "code",
   "execution_count": 67,
   "id": "96ad4b96-2253-485f-87d1-7df5aa233288",
   "metadata": {},
   "outputs": [
    {
     "data": {
      "text/plain": [
       "\" Vizzuality has an operational guideline that outlines the company's expectations for respect and consideration among all its employees. It covers topics such as harassment, sexual harassment, gender-based harassment, stalking and cyberstalking, mobbing or bullying, trolling and online hate speech. It applies in the workplace and/or during working hours and outside the workplace during work-related events, trips or social occasions and via social media. It also outlines the company's expectations for how employees should communicate about their work externally, such as on social media, at conferences, and in presentations.\""
      ]
     },
     "execution_count": 67,
     "metadata": {},
     "output_type": "execute_result"
    }
   ],
   "source": [
    "query = \"What are the operational guidelines at Vizzuality?\"\n",
    "docs = docsearch.similarity_search(query, include_metadata=True)\n",
    "chain.run(input_documents=docs, question=query)"
   ]
  },
  {
   "cell_type": "code",
   "execution_count": 74,
   "id": "97ef4826-b15a-428e-9909-3ed0e0af1cec",
   "metadata": {},
   "outputs": [
    {
     "data": {
      "text/plain": [
       "' The issue must be testable, a user acceptance test must be included in the form of Given, When, Then, and at least one reviewer must be assigned to the task.'"
      ]
     },
     "execution_count": 74,
     "metadata": {},
     "output_type": "execute_result"
    }
   ],
   "source": [
    "query = \"What are the requisites to move an issue to the QA column at Vizzuality?\"\n",
    "docs = docsearch.similarity_search(query, include_metadata=True)\n",
    "chain.run(input_documents=docs, question=query)"
   ]
  },
  {
   "cell_type": "code",
   "execution_count": 75,
   "id": "c39260f2-e253-4ce4-a85b-9ebb1416d47a",
   "metadata": {},
   "outputs": [
    {
     "data": {
      "text/plain": [
       "' As a project manager, I can finish a project on time at Vizzuality by following the 8 project phases outlined in the context and ensuring that all tasks are completed within the allotted time. Additionally, I should use VizzTracker to track the cost of the project and ensure that we are within budget.'"
      ]
     },
     "execution_count": 75,
     "metadata": {},
     "output_type": "execute_result"
    }
   ],
   "source": [
    "query = \"As a project manager, how can I finish a project on time at Vizzuality?\"\n",
    "docs = docsearch.similarity_search(query, include_metadata=True)\n",
    "chain.run(input_documents=docs, question=query)"
   ]
  }
 ],
 "metadata": {
  "kernelspec": {
   "display_name": "Python 3 (ipykernel)",
   "language": "python",
   "name": "python3"
  },
  "language_info": {
   "codemirror_mode": {
    "name": "ipython",
    "version": 3
   },
   "file_extension": ".py",
   "mimetype": "text/x-python",
   "name": "python",
   "nbconvert_exporter": "python",
   "pygments_lexer": "ipython3",
   "version": "3.9.16"
  }
 },
 "nbformat": 4,
 "nbformat_minor": 5
}
