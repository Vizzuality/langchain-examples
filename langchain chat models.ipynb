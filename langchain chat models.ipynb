{
 "cells": [
  {
   "cell_type": "code",
   "execution_count": null,
   "id": "71536dca",
   "metadata": {},
   "outputs": [],
   "source": [
    "import json"
   ]
  },
  {
   "cell_type": "code",
   "execution_count": 1,
   "id": "81939573",
   "metadata": {
    "tags": []
   },
   "outputs": [],
   "source": [
    "import os\n",
    "\n",
    "openai_api_key = os.environ.get(\"OPENAI_API_KEY\")"
   ]
  },
  {
   "cell_type": "code",
   "execution_count": 36,
   "id": "fc401b3b",
   "metadata": {},
   "outputs": [],
   "source": [
    "data = {\n",
    "    \"Apples\": \"0.90 kg\",\n",
    "    \"Bananas\": \"1.43 kg\",\n",
    "    \"Barley\": \"0.24 kg\",\n",
    "    \"Beef (beef herd)\": \"36.44 kg\",\n",
    "    \"Beef (dairy herd)\": \"12.20 kg\",\n",
    "    \"Beet Sugar\": \"0.52 kg\",\n",
    "    \"Berries & Grapes\": \"2.68 kg\",\n",
    "    \"Brassicas\": \"3.00 kg\",\n",
    "    \"Cane Sugar\": \"0.91 kg\",\n",
    "    \"Cassava\": \"1.36 kg\",\n",
    "    \"Cheese\": \"6.17 kg\",\n",
    "    \"Citrus Fruit\": \"1.22 kg\",\n",
    "    \"Coffee\": \"50.95 kg\",\n",
    "    \"Dark Chocolate\": \"9.02 kg\",\n",
    "    \"Eggs\": \"3.24 kg\",\n",
    "    \"Fish (farmed)\": \"7.61 kg\",\n",
    "    \"Groundnuts\": \"0.56 kg\",\n",
    "    \"Lamb & Mutton\": \"12.53 kg\",\n",
    "    \"Maize\": \"0.38 kg\",\n",
    "    \"Milk\": \"5.25 kg\",\n",
    "    \"Nuts\": \"0.07 kg\",\n",
    "    \"Oatmeal\": \"0.95 kg\",\n",
    "    \"Olive Oil\": \"0.61 kg\",\n",
    "    \"Onions & Leeks\": \"1.35 kg\",\n",
    "    \"Other Pulses\": \"0.52 kg\",\n",
    "    \"Palm Oil\": \"0.83 kg\",\n",
    "    \"Peas\": \"0.28 kg\",\n",
    "    \"Pig Meat\": \"5.15 kg\",\n",
    "    \"Potatoes\": \"0.63 kg\",\n",
    "    \"Poultry Meat\": \"5.34 kg\",\n",
    "    \"Prawns (farmed)\": \"26.09 kg\",\n",
    "    \"Rapeseed Oil\": \"0.43 kg\",\n",
    "    \"Rice\": \"1.21 kg\",\n",
    "    \"Root Vegetables\": \"1.16 kg\",\n",
    "    \"Sunflower Oil\": \"0.41 kg\",\n",
    "    \"Tofu\": \"1.17 kg\",\n",
    "    \"Tomatoes\": \"11.00 kg\",\n",
    "    \"Wheat & Rye\": \"0.59 kg\"\n",
    "}"
   ]
  },
  {
   "cell_type": "code",
   "execution_count": 39,
   "id": "5d000252",
   "metadata": {},
   "outputs": [],
   "source": [
    "from langchain.chat_models import ChatOpenAI\n",
    "from langchain.schema import HumanMessage, SystemMessage, AIMessage\n",
    "\n",
    "chat = ChatOpenAI(temperature=0, openai_api_key=openai_api_key)"
   ]
  },
  {
   "cell_type": "code",
   "execution_count": 40,
   "id": "7684305d",
   "metadata": {},
   "outputs": [
    {
     "data": {
      "text/plain": [
       "AIMessage(content='Based on the data provided, it is clear that different types of food have different levels of greenhouse gas emissions per 1000 kilocalories. \\n\\nFor example, beef from beef herd has the highest amount of emissions at 36.44 kg, followed by prawns (farmed) at 26.09 kg and coffee at 50.95 kg. \\n\\nOn the other hand, nuts only have 0.07 kg of emissions per 1000 kilocalories, making them a much more environmentally friendly option. \\n\\nIt is important to consider these emissions when making decisions about food choices and managing the environmental impact of food production and consumption.', additional_kwargs={})"
      ]
     },
     "execution_count": 40,
     "metadata": {},
     "output_type": "execute_result"
    }
   ],
   "source": [
    "chat(\n",
    "    [\n",
    "        SystemMessage(content=\"You are an environmental scientific that will analyze description is Greenhouse gas emissions per 1000 kilocalories, Greenhouse gas emissions are measured in carbon dioxide-equivalents (CO₂eq) and give meaningful insights\"),\n",
    "        AIMessage(content=json.dumps(data)),\n",
    "        HumanMessage(content=\"I am a decission maker, give some insights\")\n",
    "    ]\n",
    ")"
   ]
  },
  {
   "cell_type": "code",
   "execution_count": null,
   "id": "be201e0b",
   "metadata": {},
   "outputs": [],
   "source": []
  }
 ],
 "metadata": {
  "kernelspec": {
   "display_name": "Python 3 (ipykernel)",
   "language": "python",
   "name": "python3"
  },
  "language_info": {
   "codemirror_mode": {
    "name": "ipython",
    "version": 3
   },
   "file_extension": ".py",
   "mimetype": "text/x-python",
   "name": "python",
   "nbconvert_exporter": "python",
   "pygments_lexer": "ipython3",
   "version": "3.9.16"
  }
 },
 "nbformat": 4,
 "nbformat_minor": 5
}
