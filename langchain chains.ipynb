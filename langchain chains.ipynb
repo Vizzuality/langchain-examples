{
 "cells": [
  {
   "cell_type": "code",
   "execution_count": 1,
   "id": "e5838a02-31f2-450b-9bc7-0e76c341d215",
   "metadata": {
    "tags": []
   },
   "outputs": [],
   "source": [
    "import os\n",
    "\n",
    "openai_api_key = os.environ.get(\"OPENAI_API_KEY\")"
   ]
  },
  {
   "cell_type": "code",
   "execution_count": 20,
   "id": "d7fb2614-dd47-466b-aea4-bb4ddc987033",
   "metadata": {},
   "outputs": [],
   "source": [
    "from langchain.agents import load_tools\n",
    "from langchain.agents import initialize_agent\n",
    "from langchain.llms import OpenAI"
   ]
  },
  {
   "cell_type": "code",
   "execution_count": 21,
   "id": "8781691d-f302-412f-8797-bb3fde33b5c5",
   "metadata": {},
   "outputs": [],
   "source": [
    "llm = OpenAI(temperature=0, openai_api_key=secret_key)"
   ]
  },
  {
   "cell_type": "code",
   "execution_count": 37,
   "id": "996c58fb-74e3-4714-a845-29d5d24a6957",
   "metadata": {},
   "outputs": [],
   "source": [
    "tools = load_tools([\"wikipedia\", \"llm-math\"], llm=llm)"
   ]
  },
  {
   "cell_type": "code",
   "execution_count": 23,
   "id": "bce4a33d-ecaa-4763-91c2-e6e408f1b42e",
   "metadata": {},
   "outputs": [],
   "source": [
    "agent = initialize_agent(tools, \n",
    "                         llm, \n",
    "                         agent=\"zero-shot-react-description\", \n",
    "                         verbose=True)"
   ]
  },
  {
   "cell_type": "code",
   "execution_count": 24,
   "id": "7991ae8b-0d08-4120-8340-a09ea26f0528",
   "metadata": {},
   "outputs": [
    {
     "data": {
      "text/plain": [
       "'Answer the following questions as best you can. You have access to the following tools:\\n\\nWikipedia: A wrapper around Wikipedia. Useful for when you need to answer general questions about people, places, companies, historical events, or other subjects. Input should be a search query.\\nCalculator: Useful for when you need to answer questions about math.\\n\\nUse the following format:\\n\\nQuestion: the input question you must answer\\nThought: you should always think about what to do\\nAction: the action to take, should be one of [Wikipedia, Calculator]\\nAction Input: the input to the action\\nObservation: the result of the action\\n... (this Thought/Action/Action Input/Observation can repeat N times)\\nThought: I now know the final answer\\nFinal Answer: the final answer to the original input question\\n\\nBegin!\\n\\nQuestion: {input}\\nThought:{agent_scratchpad}'"
      ]
     },
     "execution_count": 24,
     "metadata": {},
     "output_type": "execute_result"
    }
   ],
   "source": [
    "agent.agent.llm_chain.prompt.template"
   ]
  },
  {
   "cell_type": "code",
   "execution_count": 44,
   "id": "4c47f3d1-cb3b-4b1c-9bd5-54e63df14b29",
   "metadata": {},
   "outputs": [
    {
     "name": "stdout",
     "output_type": "stream",
     "text": [
      "\n",
      "\n",
      "\u001b[1m> Entering new AgentExecutor chain...\u001b[0m\n",
      "\u001b[32;1m\u001b[1;3m I need to know how many lynx species there are.\n",
      "Action: Wikipedia\n",
      "Action Input: Number of lynx species\u001b[0m\n",
      "Observation: \u001b[36;1m\u001b[1;3mPage: Canada lynx\n",
      "Summary: The Canada lynx (Lynx canadensis), or Canadian lynx, is a medium-sized North American lynx that ranges across Alaska, Canada, and northern areas of the contiguous United States. It is characterized by its long, dense fur, triangular ears with black tufts at the tips, and broad, snowshoe-like paws. Its hindlimbs are longer than the forelimbs, so its back slopes downward to the front. The Canada lynx stands 48–56 cm (19–22 in) tall at the shoulder and weighs between 5 and 17 kg (11 and 37 lb). The lynx is a good swimmer and an agile climber. The Canada lynx was first described by Robert Kerr in 1792. Three subspecies have been proposed, but their validity is doubted; it is mostly considered a monotypic species.\n",
      "A specialist predator, the Canada lynx depends heavily on the snowshoe hare (Lepus americanus) for food. This leads to a prey-predator cycle, as Canada lynxes respond to the cyclic rises and falls in snowshoe hare populations over the years in Alaska and central Canada. The Canada lynx population increases with an increasing hare population; if the hare population decreases in a given area, it moves to areas with more hares and has fewer offspring. The Canada lynx hunts mainly around twilight, or at night, when snowshoe hares tend to be active. The lynx waits for the hare on specific trails or in \"ambush beds\", then pounces on it and kills it by a bite on its head, throat or the nape of its neck. Individuals, particularly of the same sex, tend to avoid each other, forming \"intrasexual\" territories. The mating season is roughly a month long (from March to early April). After a gestation of two to three months, a litter of one to eight kittens is born. Offspring are weaned at 12 weeks.\n",
      "This lynx occurs predominantly in dense boreal forests, and its range strongly coincides with that of the snowshoe hare. Given its abundance throughout the range and lack of severe threats, the Canada lynx has been listed as Least Concern on the IUCN Red List. This lynx is regularly trapped for the international fur trade in most of Alaska and Canada but is protected in the southern half of its range due to threats such as habitat loss.\n",
      "\n",
      "Page: Iberian lynx\n",
      "Summary: The Iberian lynx (Lynx pardinus) is a wild cat species endemic to the Iberian Peninsula in southwestern Europe. It is listed as Endangered on the IUCN Red List. In the 20th century, the Iberian lynx population had declined because of overhunting, poaching, fragmentation of suitable habitats, and the population decline of its main prey species, the European rabbit (Oryctolagus cuniculus), caused by myxomatosis and rabbit haemorrhagic disease.By the turn of the 21st century, the Iberian lynx was on the verge of extinction, as only 94 individuals survived in two isolated subpopulations in Andalusia in 2002. Conservation measures have been implemented since then, which included improving habitat, restocking of rabbits, translocating,  reintroducing and monitoring Iberian lynxes. By 2012, the population had increased to 326 individuals, to 855 in 2020, and to 1,111 in 2021.It is a monotypic species, and is thought to have evolved from Lynx issiodorensis.\n",
      "\n",
      "\n",
      "\n",
      "Page: Eurasian lynx\n",
      "Summary: The Eurasian lynx (Lynx lynx) is a medium-sized wild cat widely distributed from Northern, Central and Eastern Europe to Central Asia and Siberia, the Tibetan Plateau and the Himalayas. It inhabits temperate and boreal forests up to an elevation of 5,500 m (18,000 ft). Despite its wide distribution, it is threatened by habitat loss and fragmentation, poaching and depletion of prey.\n",
      "\n",
      "\u001b[0m\n",
      "Thought:\u001b[32;1m\u001b[1;3m I now know the number of lynx species.\n",
      "Action: Calculator\n",
      "Action Input: 3\u001b[0m\n",
      "Observation: \u001b[33;1m\u001b[1;3mAnswer: 3\n",
      "\u001b[0m\n",
      "Thought:\u001b[32;1m\u001b[1;3m I now know the final answer.\n",
      "Final Answer: If I square the number of lynx species I should get 9.\u001b[0m\n",
      "\n",
      "\u001b[1m> Finished chain.\u001b[0m\n"
     ]
    },
    {
     "data": {
      "text/plain": [
       "'If I square the number of lynx species I should get 9.'"
      ]
     },
     "execution_count": 44,
     "metadata": {},
     "output_type": "execute_result"
    }
   ],
   "source": [
    "agent.run(\"If I square the number of lynx species what should I get?\")"
   ]
  }
 ],
 "metadata": {
  "kernelspec": {
   "display_name": "Python 3 (ipykernel)",
   "language": "python",
   "name": "python3"
  },
  "language_info": {
   "codemirror_mode": {
    "name": "ipython",
    "version": 3
   },
   "file_extension": ".py",
   "mimetype": "text/x-python",
   "name": "python",
   "nbconvert_exporter": "python",
   "pygments_lexer": "ipython3",
   "version": "3.9.16"
  }
 },
 "nbformat": 4,
 "nbformat_minor": 5
}
